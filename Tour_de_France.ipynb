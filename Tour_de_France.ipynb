{
  "cells": [
    {
      "cell_type": "markdown",
      "metadata": {
        "id": "view-in-github",
        "colab_type": "text"
      },
      "source": [
        "<a href=\"https://colab.research.google.com/github/asyhar22/tour-de-france/blob/main/Tour_de_France.ipynb\" target=\"_parent\"><img src=\"https://colab.research.google.com/assets/colab-badge.svg\" alt=\"Open In Colab\"/></a>"
      ]
    },
    {
      "cell_type": "code",
      "execution_count": 1,
      "metadata": {
        "id": "QT_HwRDC8nhg"
      },
      "outputs": [],
      "source": [
        "import pandas as pd\n",
        "import requests\n",
        "import re\n",
        "\n",
        "from bs4 import BeautifulSoup\n",
        "\n",
        "import warnings\n",
        "warnings.filterwarnings('ignore')"
      ]
    },
    {
      "cell_type": "code",
      "execution_count": 2,
      "metadata": {
        "id": "bMe7YvYz-cCD"
      },
      "outputs": [],
      "source": [
        "# https://www.letour.fr/en/history\n",
        "# https://www.letour.fr/en/block/history/11821/a3fe7d350ef546e3c27ae83a84fa3a0b --> year of 2021\n",
        "# https://www.letour.fr/en/block/history/11821/ranking/7624efa14b30dd23fce5b89100259570?stage=21&type=itg --> individual general 2021\n",
        "# https://www.letour.fr/en/block/history/11821/ranking/7624efa14b30dd23fce5b89100259570?stage=21&type=ite --> individual stage 2021\n",
        "# https://www.letour.fr/en/block/history/11821/ranking/7624efa14b30dd23fce5b89100259570?stage=21&type=ipg --> points general 2021\n",
        "# https://www.letour.fr/en/block/history/11821/ranking/7624efa14b30dd23fce5b89100259570?stage=21&type=ipe --> points stage 2021\n",
        "# https://www.letour.fr/en/block/history/11821/ranking/7624efa14b30dd23fce5b89100259570?stage=21&type=img --> climber general 2021 --> check again\n",
        "# https://www.letour.fr/en/block/history/11821/ranking/7624efa14b30dd23fce5b89100259570?stage=21&type=ime --> climber stage 2021 --> check again\n",
        "# https://www.letour.fr/en/block/history/11821/ranking/7624efa14b30dd23fce5b89100259570?stage=2&type=icg --> combative general 2021 --> check again\n",
        "# https://www.letour.fr/en/block/history/11821/ranking/7624efa14b30dd23fce5b89100259570?stage=2&type=ice --> combative stage 2021 --> check again\n",
        "# https://www.letour.fr/en/block/history/11821/ranking/7624efa14b30dd23fce5b89100259570?stage=21&type=etg --> team general 2021\n",
        "# https://www.letour.fr/en/block/history/11821/ranking/7624efa14b30dd23fce5b89100259570?stage=21&type=ete --> team stage 2021\n",
        "# https://www.letour.fr/en/block/history/11821/stages/43335f5fa657aaa48567acb0d84cf1d1 --> stages 2021\n",
        "# https://www.letour.fr/en/block/history/11821/jerseys/68233f403db6371888c2121baf02c13c --> jersey wearer 2021\n",
        "# https://www.letour.fr/en/block/history/11821/winners/78285f82cebf4bd0ee372cb544263c57 --> stages winner 2021"
      ]
    },
    {
      "cell_type": "code",
      "execution_count": 3,
      "metadata": {
        "id": "hEHgAamJRmQz"
      },
      "outputs": [],
      "source": [
        "years = list(range(2010,2024))\n",
        "stage_list = list(range(1,22))"
      ]
    },
    {
      "cell_type": "code",
      "execution_count": null,
      "metadata": {
        "id": "Z17-9nvX-hfK"
      },
      "outputs": [],
      "source": [
        "# url for each year\n",
        "\n",
        "year_urls = dict()\n",
        "\n",
        "r = requests.get('https://www.letour.fr/en/history')\n",
        "soup = BeautifulSoup(r.text,'html.parser')\n",
        "\n",
        "for year in years:\n",
        "  path = soup.find('button',{'class': 'dateTabs__link js-tabs','data-tabs-target':year})\n",
        "  year_path = path['data-tabs-ajax']\n",
        "  year_urls[year]= f'https://www.letour.fr{year_path}'\n",
        "\n",
        "year_urls"
      ]
    },
    {
      "cell_type": "code",
      "execution_count": null,
      "metadata": {
        "id": "SZHBPDLcaKLA"
      },
      "outputs": [],
      "source": [
        "# rank url for each year\n",
        "\n",
        "rank_urls = dict()\n",
        "for year in years:\n",
        "  r = requests.get(year_urls[year])\n",
        "  soup = BeautifulSoup(r.text,'html.parser')\n",
        "\n",
        "  path = soup.find('button',{'class': 'tabs__link js-tabs-nested','data-tabs-target':'ranking'})\n",
        "  rank_path = path['data-tabs-ajax']\n",
        "  rank_urls[year] = f'https://www.letour.fr{rank_path}'\n",
        "\n",
        "rank_urls"
      ]
    },
    {
      "cell_type": "code",
      "execution_count": 6,
      "metadata": {
        "id": "XUOJTgiENYal"
      },
      "outputs": [],
      "source": [
        "# itg --> individual general (for each year & for each stage)\n",
        "\n",
        "rank_type = 'itg'\n",
        "rank_itg = pd.DataFrame()\n",
        "for year in years:\n",
        "  for stage in stage_list:\n",
        "    to_append = pd.read_html(f'{rank_urls[year]}?stage={stage}&type={rank_type}', encoding='utf-8')[0]\n",
        "    to_append['Stages'] = stage\n",
        "    to_append['Year'] = year\n",
        "    rank_itg = pd.concat([rank_itg,to_append], ignore_index=True)\n",
        "\n",
        "rank_itg.to_csv('Tour de France Individual (General) 2010-2023.csv', index=False)"
      ]
    },
    {
      "cell_type": "code",
      "execution_count": 7,
      "metadata": {
        "id": "7ztVaMC_OPDP"
      },
      "outputs": [],
      "source": [
        "# ite --> individual stage (for each year & for each stage)\n",
        "\n",
        "rank_type = 'ite'\n",
        "rank_ite = pd.DataFrame()\n",
        "for year in years:\n",
        "  for stage in stage_list:\n",
        "    to_append = pd.read_html(f'{rank_urls[year]}?stage={stage}&type={rank_type}', encoding='utf-8')[0]\n",
        "    to_append['Stages'] = stage\n",
        "    to_append['Year'] = year\n",
        "    rank_ite = pd.concat([rank_ite,to_append], ignore_index=True)\n",
        "\n",
        "rank_ite.to_csv('Tour de France Individual (Stage) 2010-2023.csv', index=False)"
      ]
    },
    {
      "cell_type": "code",
      "execution_count": 8,
      "metadata": {
        "id": "hO-OVXaWOO5t"
      },
      "outputs": [],
      "source": [
        "# ipg --> points general (for each year & for each stage)\n",
        "\n",
        "rank_type = 'ipg'\n",
        "rank_ipg = pd.DataFrame()\n",
        "for year in years:\n",
        "  for stage in stage_list:\n",
        "    to_append = pd.read_html(f'{rank_urls[year]}?stage={stage}&type={rank_type}', encoding='utf-8')[0]\n",
        "    to_append['Stages'] = stage\n",
        "    to_append['Year'] = year\n",
        "    rank_ipg = pd.concat([rank_ipg,to_append], ignore_index=True)\n",
        "\n",
        "rank_ipg.to_csv('Tour de France Points (General) 2010-2023.csv', index=False)"
      ]
    },
    {
      "cell_type": "code",
      "execution_count": 18,
      "metadata": {
        "id": "GUutBxgKOOv1"
      },
      "outputs": [],
      "source": [
        "# ipe --> points stage (for each year & for each stage)\n",
        "\n",
        "rank_type = 'ipe'\n",
        "rank_ipe = pd.DataFrame()\n",
        "for year in years:\n",
        "  for stage in stage_list:\n",
        "    to_append = pd.read_html(f'{rank_urls[year]}?stage={stage}&type={rank_type}', encoding='utf-8')[0]\n",
        "    to_append['Stages'] = stage\n",
        "    to_append['Year'] = year\n",
        "    rank_ipe = pd.concat([rank_ipe,to_append], ignore_index=True)\n",
        "\n",
        "ipe_segment = pd.DataFrame()\n",
        "for i in rank_ipe.index:\n",
        "  if len(str(rank_ipe.loc[i,\"Rank\"])) > 5:\n",
        "    segment=rank_ipe.loc[i,\"Rank\"]\n",
        "  else:\n",
        "    to_append = rank_ipe.loc[i:i]\n",
        "    to_append['Segment'] = segment\n",
        "    ipe_segment = pd.concat([ipe_segment, to_append], ignore_index=True)\n",
        "\n",
        "ipe_segment.to_csv('Tour de France Points (Stage) 2010-2023.csv', index=False)"
      ]
    },
    {
      "cell_type": "code",
      "execution_count": 19,
      "metadata": {
        "id": "Db7pEyH0OOl9"
      },
      "outputs": [],
      "source": [
        "# img --> climber general (for each year & for each stage)\n",
        "\n",
        "rank_type = 'img'\n",
        "rank_img = pd.DataFrame()\n",
        "for year in years:\n",
        "  for stage in stage_list:\n",
        "    to_append = pd.read_html(f'{rank_urls[year]}?stage={stage}&type={rank_type}', encoding='utf-8')[0]\n",
        "    to_append['Stages'] = stage\n",
        "    to_append['Year'] = year\n",
        "    if len(to_append) < 100:\n",
        "      rank_img = pd.concat([rank_img,to_append], ignore_index=True)\n",
        "\n",
        "rank_img.to_csv('Tour de France Climber (General) 2010-2023.csv', index=False)"
      ]
    },
    {
      "cell_type": "code",
      "execution_count": 20,
      "metadata": {
        "id": "r5h3An6JXA44"
      },
      "outputs": [],
      "source": [
        "# ime --> climber stage (for each year & for each stage)\n",
        "\n",
        "rank_type = 'ime'\n",
        "rank_ime = pd.DataFrame()\n",
        "for year in years:\n",
        "  for stage in stage_list:\n",
        "    to_append = pd.read_html(f'{rank_urls[year]}?stage={stage}&type={rank_type}', encoding='utf-8')[0]\n",
        "    to_append['Stages'] = stage\n",
        "    to_append['Year'] = year\n",
        "    if len(to_append) < 100:\n",
        "      rank_ime = pd.concat([rank_ime,to_append], ignore_index=True)\n",
        "\n",
        "rank_ime.pop(rank_ime.columns[-3])\n",
        "\n",
        "ime_segment = pd.DataFrame()\n",
        "for i in rank_ime.index:\n",
        "  if len(str(rank_ime.loc[i,\"Rank\"])) > 5:\n",
        "    segment=rank_ime.loc[i,\"Rank\"]\n",
        "  else:\n",
        "    to_append = rank_ime.loc[i:i]\n",
        "    to_append['Segment'] = segment\n",
        "    ime_segment = pd.concat([ime_segment, to_append], ignore_index=True)\n",
        "\n",
        "ime_segment.to_csv('Tour de France Climber (Stage) 2010-2023.csv', index=False)"
      ]
    },
    {
      "cell_type": "code",
      "execution_count": 21,
      "metadata": {
        "id": "RKqrtGWcOOSh"
      },
      "outputs": [],
      "source": [
        "# icg --> combative general (for each year & for each stage)\n",
        "\n",
        "rank_type = 'icg'\n",
        "rank_icg = pd.DataFrame()\n",
        "for year in years:\n",
        "  for stage in stage_list:\n",
        "    to_append = pd.read_html(f'{rank_urls[year]}?stage={stage}&type={rank_type}', encoding='utf-8')[0]\n",
        "    to_append['Stages'] = stage\n",
        "    to_append['Year'] = year\n",
        "    if len(to_append) < 50:\n",
        "      rank_icg = pd.concat([rank_icg,to_append], ignore_index=True)\n",
        "\n",
        "rank_icg.to_csv('Tour de France Combative (General) 2010-2023.csv', index=False)"
      ]
    },
    {
      "cell_type": "code",
      "execution_count": 22,
      "metadata": {
        "id": "4NwbYZZFOOIw"
      },
      "outputs": [],
      "source": [
        "# ice --> combative stage (for each year & for each stage)\n",
        "\n",
        "rank_type = 'ice'\n",
        "rank_ice = pd.DataFrame()\n",
        "for year in years:\n",
        "  for stage in stage_list:\n",
        "    to_append = pd.read_html(f'{rank_urls[year]}?stage={stage}&type={rank_type}', encoding='utf-8')[0]\n",
        "    to_append['Stages'] = stage\n",
        "    to_append['Year'] = year\n",
        "    if len(to_append) < 50:\n",
        "      rank_ice = pd.concat([rank_ice,to_append], ignore_index=True)\n",
        "\n",
        "rank_ice.to_csv('Tour de France Combative (Stage) 2010-2023.csv', index=False)"
      ]
    },
    {
      "cell_type": "code",
      "execution_count": 23,
      "metadata": {
        "id": "50K98DfsON_W"
      },
      "outputs": [],
      "source": [
        "# etg --> team general (for each year & for each stage)\n",
        "\n",
        "rank_type = 'etg'\n",
        "rank_etg = pd.DataFrame()\n",
        "for year in years:\n",
        "  for stage in stage_list:\n",
        "    to_append = pd.read_html(f'{rank_urls[year]}?stage={stage}&type={rank_type}', encoding='utf-8')[0]\n",
        "    to_append['Stages'] = stage\n",
        "    to_append['Year'] = year\n",
        "    rank_etg = pd.concat([rank_etg,to_append], ignore_index=True)\n",
        "\n",
        "rank_etg.to_csv('Tour de France Team (General) 2010-2023.csv', index=False)"
      ]
    },
    {
      "cell_type": "code",
      "execution_count": 24,
      "metadata": {
        "id": "rAxpvtn4ON1q"
      },
      "outputs": [],
      "source": [
        "# ete --> team stage (for each year & for each stage)\n",
        "\n",
        "rank_type = 'ete'\n",
        "rank_ete = pd.DataFrame()\n",
        "for year in years:\n",
        "  for stage in stage_list:\n",
        "    to_append = pd.read_html(f'{rank_urls[year]}?stage={stage}&type={rank_type}', encoding='utf-8')[0]\n",
        "    to_append['Stages'] = stage\n",
        "    to_append['Year'] = year\n",
        "    rank_ete = pd.concat([rank_ete,to_append], ignore_index=True)\n",
        "\n",
        "rank_ete.to_csv('Tour de France Team (Stage) 2010-2023.csv', index=False)"
      ]
    },
    {
      "cell_type": "code",
      "execution_count": 25,
      "metadata": {
        "id": "5tBAymMC8t4P"
      },
      "outputs": [],
      "source": [
        "# stages for each year\n",
        "stages = pd.DataFrame()\n",
        "for year in years:\n",
        "  r = requests.get(year_urls[year])\n",
        "  soup = BeautifulSoup(r.text,'html.parser')\n",
        "\n",
        "  path = soup.find('button',{'class': 'tabs__link js-tabs-nested','data-tabs-target':'stages'})\n",
        "  stages_path = path['data-tabs-ajax']\n",
        "\n",
        "  to_append = pd.read_html(f'https://www.letour.fr{stages_path}', encoding='utf-8')[0]\n",
        "  to_append['Year'] = year\n",
        "  stages = pd.concat([stages,to_append], ignore_index=True)\n",
        "\n",
        "stages.to_csv('Tour de France Stages 2010-2023.csv', index=False)"
      ]
    },
    {
      "cell_type": "code",
      "execution_count": 26,
      "metadata": {
        "id": "-mgQGGS3jjeu"
      },
      "outputs": [],
      "source": [
        "# jerseys for each year\n",
        "jerseys = pd.DataFrame()\n",
        "for year in years:\n",
        "  r = requests.get(year_urls[year])\n",
        "  soup = BeautifulSoup(r.text,'html.parser')\n",
        "\n",
        "  path = soup.find('button',{'class': 'tabs__link js-tabs-nested','data-tabs-target':'jerseys'})\n",
        "  jerseys_path = path['data-tabs-ajax']\n",
        "\n",
        "  to_append = pd.read_html(f'https://www.letour.fr{jerseys_path}', encoding='utf-8')[0]\n",
        "  to_append['Year'] = year\n",
        "  jerseys = pd.concat([jerseys,to_append], ignore_index=True)\n",
        "\n",
        "jerseys.to_csv('Tour de France Jerseys 2010-2023.csv', index=False)"
      ]
    },
    {
      "cell_type": "code",
      "execution_count": 27,
      "metadata": {
        "id": "pp9_paHakqOh"
      },
      "outputs": [],
      "source": [
        "# winners for each year\n",
        "winners = pd.DataFrame()\n",
        "for year in years:\n",
        "  r = requests.get(year_urls[year])\n",
        "  soup = BeautifulSoup(r.text,'html.parser')\n",
        "\n",
        "  path = soup.find('button',{'class': 'tabs__link js-tabs-nested','data-tabs-target':'jerseys'})\n",
        "  winners_path = path['data-tabs-ajax']\n",
        "\n",
        "  to_append = pd.read_html(f'https://www.letour.fr{winners_path}', encoding='utf-8')[0]\n",
        "  to_append['Year'] = year\n",
        "  winners = pd.concat([winners,to_append], ignore_index=True)\n",
        "\n",
        "winners.to_csv('Tour de France Winners 2010-2023.csv', index=False)"
      ]
    }
  ],
  "metadata": {
    "colab": {
      "provenance": [],
      "authorship_tag": "ABX9TyM7KenLMEhFjEMHWh86YWV+",
      "include_colab_link": true
    },
    "kernelspec": {
      "display_name": "Python 3",
      "name": "python3"
    },
    "language_info": {
      "name": "python"
    }
  },
  "nbformat": 4,
  "nbformat_minor": 0
}